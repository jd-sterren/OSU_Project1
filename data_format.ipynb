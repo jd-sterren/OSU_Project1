{
 "cells": [
  {
   "cell_type": "code",
   "execution_count": 1,
   "metadata": {},
   "outputs": [],
   "source": [
    "# Import needed modules\n",
    "import pandas as pd\n",
    "\n",
    "# Import the files\n",
    "weather_df = pd.read_csv(\"Resources/Canton_Ohio_Weather.csv\")\n",
    "cfs_df = pd.read_excel(\"Resources/cfs_data_Canton.xlsx\")"
   ]
  },
  {
   "cell_type": "code",
   "execution_count": 2,
   "metadata": {},
   "outputs": [
    {
     "data": {
      "text/plain": [
       "dt                       int64\n",
       "dt_iso                  object\n",
       "timezone                 int64\n",
       "city_name               object\n",
       "lat                    float64\n",
       "lon                    float64\n",
       "temp                   float64\n",
       "visibility             float64\n",
       "dew_point              float64\n",
       "feels_like             float64\n",
       "temp_min               float64\n",
       "temp_max               float64\n",
       "pressure                 int64\n",
       "sea_level              float64\n",
       "grnd_level             float64\n",
       "humidity                 int64\n",
       "wind_speed             float64\n",
       "wind_deg                 int64\n",
       "wind_gust              float64\n",
       "rain_1h                float64\n",
       "rain_3h                float64\n",
       "snow_1h                float64\n",
       "snow_3h                float64\n",
       "clouds_all               int64\n",
       "weather_id               int64\n",
       "weather_main            object\n",
       "weather_description     object\n",
       "weather_icon            object\n",
       "dtype: object"
      ]
     },
     "execution_count": 2,
     "metadata": {},
     "output_type": "execute_result"
    }
   ],
   "source": [
    "# Evaluate the weather data - ds_iso is the utc datetime column\n",
    "weather_df.dtypes"
   ]
  },
  {
   "cell_type": "code",
   "execution_count": 3,
   "metadata": {},
   "outputs": [
    {
     "data": {
      "text/plain": [
       "0   2015-01-01 00:00:00+00:00\n",
       "1   2015-01-01 01:00:00+00:00\n",
       "2   2015-01-01 02:00:00+00:00\n",
       "Name: dt_iso, dtype: datetime64[ns, UTC]"
      ]
     },
     "execution_count": 3,
     "metadata": {},
     "output_type": "execute_result"
    }
   ],
   "source": [
    "# Convert dt_iso into datetime format and convert to America/New_York timezone\n",
    "weather_df['dt_iso'] = pd.to_datetime(weather_df['dt_iso'], format='%Y-%m-%d %H:%M:%S %z UTC')\n",
    "weather_df['dt_iso'] = weather_df['dt_iso'].dt.tz_convert(\"America/New_York\")\n",
    "weather_df['dt_iso'].head(3)"
   ]
  },
  {
   "cell_type": "code",
   "execution_count": 5,
   "metadata": {},
   "outputs": [
    {
     "data": {
      "text/plain": [
       "0    2014-12-31 19:00:00\n",
       "1    2014-12-31 20:00:00\n",
       "2    2014-12-31 21:00:00\n",
       "Name: relation, dtype: object"
      ]
     },
     "execution_count": 5,
     "metadata": {},
     "output_type": "execute_result"
    }
   ],
   "source": [
    "# Create column to merge weather and cfs data on.  Since weather data has\n",
    "# by the hour with minutes and seconds 00:00, that will need to be the same\n",
    "# for CFS data.\n",
    "weather_df['relation'] = weather_df['dt_iso'].dt.strftime(\"%Y-%m-%d %H:%M:%S\")\n",
    "weather_df['relation'].head(3)"
   ]
  },
  {
   "cell_type": "code",
   "execution_count": 6,
   "metadata": {},
   "outputs": [
    {
     "data": {
      "text/plain": [
       "CallID                     int64\n",
       "Department                object\n",
       "CallType                  object\n",
       "CreateDatetime    datetime64[ns]\n",
       "GeoFlag                     bool\n",
       "AgencyType                 int64\n",
       "dtype: object"
      ]
     },
     "execution_count": 6,
     "metadata": {},
     "output_type": "execute_result"
    }
   ],
   "source": [
    "cfs_df.dtypes"
   ]
  },
  {
   "cell_type": "code",
   "execution_count": 8,
   "metadata": {},
   "outputs": [],
   "source": [
    "# Create column within CFS to merge weather with.  This returns 00:00 for \n",
    "# minutes and seconds to match weather format.\n",
    "cfs_df['relation'] = cfs_df['CreateDatetime'].dt.strftime(\"%Y-%m-%d %H:00:00\")"
   ]
  },
  {
   "cell_type": "code",
   "execution_count": 9,
   "metadata": {},
   "outputs": [
    {
     "data": {
      "text/html": [
       "<div>\n",
       "<style scoped>\n",
       "    .dataframe tbody tr th:only-of-type {\n",
       "        vertical-align: middle;\n",
       "    }\n",
       "\n",
       "    .dataframe tbody tr th {\n",
       "        vertical-align: top;\n",
       "    }\n",
       "\n",
       "    .dataframe thead th {\n",
       "        text-align: right;\n",
       "    }\n",
       "</style>\n",
       "<table border=\"1\" class=\"dataframe\">\n",
       "  <thead>\n",
       "    <tr style=\"text-align: right;\">\n",
       "      <th></th>\n",
       "      <th>CallID</th>\n",
       "      <th>Department</th>\n",
       "      <th>CallType</th>\n",
       "      <th>CreateDatetime</th>\n",
       "      <th>GeoFlag</th>\n",
       "      <th>AgencyType</th>\n",
       "      <th>relation</th>\n",
       "      <th>dt</th>\n",
       "      <th>dt_iso</th>\n",
       "      <th>timezone</th>\n",
       "      <th>...</th>\n",
       "      <th>wind_gust</th>\n",
       "      <th>rain_1h</th>\n",
       "      <th>rain_3h</th>\n",
       "      <th>snow_1h</th>\n",
       "      <th>snow_3h</th>\n",
       "      <th>clouds_all</th>\n",
       "      <th>weather_id</th>\n",
       "      <th>weather_main</th>\n",
       "      <th>weather_description</th>\n",
       "      <th>weather_icon</th>\n",
       "    </tr>\n",
       "  </thead>\n",
       "  <tbody>\n",
       "    <tr>\n",
       "      <th>0</th>\n",
       "      <td>6140391.0</td>\n",
       "      <td>Canton Police Department</td>\n",
       "      <td>Disturbance</td>\n",
       "      <td>2023-12-22 21:09:34.750</td>\n",
       "      <td>False</td>\n",
       "      <td>1.0</td>\n",
       "      <td>2023-12-22 21:00:00</td>\n",
       "      <td>NaN</td>\n",
       "      <td>NaT</td>\n",
       "      <td>NaN</td>\n",
       "      <td>...</td>\n",
       "      <td>NaN</td>\n",
       "      <td>NaN</td>\n",
       "      <td>NaN</td>\n",
       "      <td>NaN</td>\n",
       "      <td>NaN</td>\n",
       "      <td>NaN</td>\n",
       "      <td>NaN</td>\n",
       "      <td>NaN</td>\n",
       "      <td>NaN</td>\n",
       "      <td>NaN</td>\n",
       "    </tr>\n",
       "    <tr>\n",
       "      <th>1</th>\n",
       "      <td>6140386.0</td>\n",
       "      <td>Canton Police Department</td>\n",
       "      <td>911 Hangup</td>\n",
       "      <td>2023-12-22 21:04:17.120</td>\n",
       "      <td>False</td>\n",
       "      <td>1.0</td>\n",
       "      <td>2023-12-22 21:00:00</td>\n",
       "      <td>NaN</td>\n",
       "      <td>NaT</td>\n",
       "      <td>NaN</td>\n",
       "      <td>...</td>\n",
       "      <td>NaN</td>\n",
       "      <td>NaN</td>\n",
       "      <td>NaN</td>\n",
       "      <td>NaN</td>\n",
       "      <td>NaN</td>\n",
       "      <td>NaN</td>\n",
       "      <td>NaN</td>\n",
       "      <td>NaN</td>\n",
       "      <td>NaN</td>\n",
       "      <td>NaN</td>\n",
       "    </tr>\n",
       "    <tr>\n",
       "      <th>2</th>\n",
       "      <td>6140368.0</td>\n",
       "      <td>Canton Police Department</td>\n",
       "      <td>911 Hangup</td>\n",
       "      <td>2023-12-22 20:44:22.477</td>\n",
       "      <td>False</td>\n",
       "      <td>1.0</td>\n",
       "      <td>2023-12-22 20:00:00</td>\n",
       "      <td>NaN</td>\n",
       "      <td>NaT</td>\n",
       "      <td>NaN</td>\n",
       "      <td>...</td>\n",
       "      <td>NaN</td>\n",
       "      <td>NaN</td>\n",
       "      <td>NaN</td>\n",
       "      <td>NaN</td>\n",
       "      <td>NaN</td>\n",
       "      <td>NaN</td>\n",
       "      <td>NaN</td>\n",
       "      <td>NaN</td>\n",
       "      <td>NaN</td>\n",
       "      <td>NaN</td>\n",
       "    </tr>\n",
       "  </tbody>\n",
       "</table>\n",
       "<p>3 rows × 35 columns</p>\n",
       "</div>"
      ],
      "text/plain": [
       "      CallID                Department     CallType          CreateDatetime  \\\n",
       "0  6140391.0  Canton Police Department  Disturbance 2023-12-22 21:09:34.750   \n",
       "1  6140386.0  Canton Police Department   911 Hangup 2023-12-22 21:04:17.120   \n",
       "2  6140368.0  Canton Police Department   911 Hangup 2023-12-22 20:44:22.477   \n",
       "\n",
       "  GeoFlag  AgencyType             relation  dt dt_iso  timezone  ...  \\\n",
       "0   False         1.0  2023-12-22 21:00:00 NaN    NaT       NaN  ...   \n",
       "1   False         1.0  2023-12-22 21:00:00 NaN    NaT       NaN  ...   \n",
       "2   False         1.0  2023-12-22 20:00:00 NaN    NaT       NaN  ...   \n",
       "\n",
       "  wind_gust  rain_1h  rain_3h  snow_1h  snow_3h  clouds_all  weather_id  \\\n",
       "0       NaN      NaN      NaN      NaN      NaN         NaN         NaN   \n",
       "1       NaN      NaN      NaN      NaN      NaN         NaN         NaN   \n",
       "2       NaN      NaN      NaN      NaN      NaN         NaN         NaN   \n",
       "\n",
       "   weather_main  weather_description  weather_icon  \n",
       "0           NaN                  NaN           NaN  \n",
       "1           NaN                  NaN           NaN  \n",
       "2           NaN                  NaN           NaN  \n",
       "\n",
       "[3 rows x 35 columns]"
      ]
     },
     "execution_count": 9,
     "metadata": {},
     "output_type": "execute_result"
    }
   ],
   "source": [
    "# Merge the dataframes together on relation table with weather on the out\n",
    "merged_df = pd.merge(cfs_df, weather_df, on=\"relation\", how=\"outer\")\n",
    "merged_df.head(3)"
   ]
  },
  {
   "cell_type": "code",
   "execution_count": 11,
   "metadata": {},
   "outputs": [
    {
     "data": {
      "text/plain": [
       "Index(['CallID', 'CallType', 'CreateDatetime', 'relation', 'temp', 'dew_point',\n",
       "       'feels_like', 'temp_min', 'temp_max', 'pressure', 'humidity',\n",
       "       'wind_speed', 'weather_main', 'weather_description'],\n",
       "      dtype='object')"
      ]
     },
     "execution_count": 11,
     "metadata": {},
     "output_type": "execute_result"
    }
   ],
   "source": [
    "# Create crime_data_df to only use needed columns\n",
    "crime_data_df = merged_df[['CallID','CallType','CreateDatetime','relation','temp','dew_point','feels_like','temp_min','temp_max','pressure','humidity','wind_speed','weather_main','weather_description']]\n",
    "crime_data_df.columns"
   ]
  },
  {
   "cell_type": "code",
   "execution_count": 13,
   "metadata": {},
   "outputs": [],
   "source": [
    "# Dropna if CallID is NA.  We will need to fill or drop weather data due to\n",
    "# the time of collection being before 2024\n",
    "crime_data_df = crime_data_df.dropna(subset=['CallID'], axis='rows')"
   ]
  },
  {
   "cell_type": "code",
   "execution_count": 14,
   "metadata": {},
   "outputs": [
    {
     "data": {
      "text/plain": [
       "(355053, 14)"
      ]
     },
     "execution_count": 14,
     "metadata": {},
     "output_type": "execute_result"
    }
   ],
   "source": [
    "crime_data_df.shape"
   ]
  },
  {
   "cell_type": "code",
   "execution_count": 15,
   "metadata": {},
   "outputs": [
    {
     "data": {
      "text/plain": [
       "(392601, 35)"
      ]
     },
     "execution_count": 15,
     "metadata": {},
     "output_type": "execute_result"
    }
   ],
   "source": [
    "merged_df.shape"
   ]
  },
  {
   "cell_type": "code",
   "execution_count": 16,
   "metadata": {},
   "outputs": [
    {
     "data": {
      "text/html": [
       "<div>\n",
       "<style scoped>\n",
       "    .dataframe tbody tr th:only-of-type {\n",
       "        vertical-align: middle;\n",
       "    }\n",
       "\n",
       "    .dataframe tbody tr th {\n",
       "        vertical-align: top;\n",
       "    }\n",
       "\n",
       "    .dataframe thead th {\n",
       "        text-align: right;\n",
       "    }\n",
       "</style>\n",
       "<table border=\"1\" class=\"dataframe\">\n",
       "  <thead>\n",
       "    <tr style=\"text-align: right;\">\n",
       "      <th></th>\n",
       "      <th>CallID</th>\n",
       "      <th>CallType</th>\n",
       "      <th>CreateDatetime</th>\n",
       "      <th>relation</th>\n",
       "      <th>temp</th>\n",
       "      <th>dew_point</th>\n",
       "      <th>feels_like</th>\n",
       "      <th>temp_min</th>\n",
       "      <th>temp_max</th>\n",
       "      <th>pressure</th>\n",
       "      <th>humidity</th>\n",
       "      <th>wind_speed</th>\n",
       "      <th>weather_main</th>\n",
       "      <th>weather_description</th>\n",
       "    </tr>\n",
       "  </thead>\n",
       "  <tbody>\n",
       "    <tr>\n",
       "      <th>0</th>\n",
       "      <td>6140391.0</td>\n",
       "      <td>Disturbance</td>\n",
       "      <td>2023-12-22 21:09:34.750</td>\n",
       "      <td>2023-12-22 21:00:00</td>\n",
       "      <td>NaN</td>\n",
       "      <td>NaN</td>\n",
       "      <td>NaN</td>\n",
       "      <td>NaN</td>\n",
       "      <td>NaN</td>\n",
       "      <td>NaN</td>\n",
       "      <td>NaN</td>\n",
       "      <td>NaN</td>\n",
       "      <td>NaN</td>\n",
       "      <td>NaN</td>\n",
       "    </tr>\n",
       "    <tr>\n",
       "      <th>1</th>\n",
       "      <td>6140386.0</td>\n",
       "      <td>911 Hangup</td>\n",
       "      <td>2023-12-22 21:04:17.120</td>\n",
       "      <td>2023-12-22 21:00:00</td>\n",
       "      <td>NaN</td>\n",
       "      <td>NaN</td>\n",
       "      <td>NaN</td>\n",
       "      <td>NaN</td>\n",
       "      <td>NaN</td>\n",
       "      <td>NaN</td>\n",
       "      <td>NaN</td>\n",
       "      <td>NaN</td>\n",
       "      <td>NaN</td>\n",
       "      <td>NaN</td>\n",
       "    </tr>\n",
       "    <tr>\n",
       "      <th>2</th>\n",
       "      <td>6140368.0</td>\n",
       "      <td>911 Hangup</td>\n",
       "      <td>2023-12-22 20:44:22.477</td>\n",
       "      <td>2023-12-22 20:00:00</td>\n",
       "      <td>NaN</td>\n",
       "      <td>NaN</td>\n",
       "      <td>NaN</td>\n",
       "      <td>NaN</td>\n",
       "      <td>NaN</td>\n",
       "      <td>NaN</td>\n",
       "      <td>NaN</td>\n",
       "      <td>NaN</td>\n",
       "      <td>NaN</td>\n",
       "      <td>NaN</td>\n",
       "    </tr>\n",
       "    <tr>\n",
       "      <th>3</th>\n",
       "      <td>6140364.0</td>\n",
       "      <td>911 Hangup</td>\n",
       "      <td>2023-12-22 20:41:46.953</td>\n",
       "      <td>2023-12-22 20:00:00</td>\n",
       "      <td>NaN</td>\n",
       "      <td>NaN</td>\n",
       "      <td>NaN</td>\n",
       "      <td>NaN</td>\n",
       "      <td>NaN</td>\n",
       "      <td>NaN</td>\n",
       "      <td>NaN</td>\n",
       "      <td>NaN</td>\n",
       "      <td>NaN</td>\n",
       "      <td>NaN</td>\n",
       "    </tr>\n",
       "    <tr>\n",
       "      <th>4</th>\n",
       "      <td>6140355.0</td>\n",
       "      <td>Theft</td>\n",
       "      <td>2023-12-22 20:27:56.443</td>\n",
       "      <td>2023-12-22 20:00:00</td>\n",
       "      <td>NaN</td>\n",
       "      <td>NaN</td>\n",
       "      <td>NaN</td>\n",
       "      <td>NaN</td>\n",
       "      <td>NaN</td>\n",
       "      <td>NaN</td>\n",
       "      <td>NaN</td>\n",
       "      <td>NaN</td>\n",
       "      <td>NaN</td>\n",
       "      <td>NaN</td>\n",
       "    </tr>\n",
       "  </tbody>\n",
       "</table>\n",
       "</div>"
      ],
      "text/plain": [
       "      CallID     CallType          CreateDatetime             relation  temp  \\\n",
       "0  6140391.0  Disturbance 2023-12-22 21:09:34.750  2023-12-22 21:00:00   NaN   \n",
       "1  6140386.0   911 Hangup 2023-12-22 21:04:17.120  2023-12-22 21:00:00   NaN   \n",
       "2  6140368.0   911 Hangup 2023-12-22 20:44:22.477  2023-12-22 20:00:00   NaN   \n",
       "3  6140364.0   911 Hangup 2023-12-22 20:41:46.953  2023-12-22 20:00:00   NaN   \n",
       "4  6140355.0        Theft 2023-12-22 20:27:56.443  2023-12-22 20:00:00   NaN   \n",
       "\n",
       "   dew_point  feels_like  temp_min  temp_max  pressure  humidity  wind_speed  \\\n",
       "0        NaN         NaN       NaN       NaN       NaN       NaN         NaN   \n",
       "1        NaN         NaN       NaN       NaN       NaN       NaN         NaN   \n",
       "2        NaN         NaN       NaN       NaN       NaN       NaN         NaN   \n",
       "3        NaN         NaN       NaN       NaN       NaN       NaN         NaN   \n",
       "4        NaN         NaN       NaN       NaN       NaN       NaN         NaN   \n",
       "\n",
       "  weather_main weather_description  \n",
       "0          NaN                 NaN  \n",
       "1          NaN                 NaN  \n",
       "2          NaN                 NaN  \n",
       "3          NaN                 NaN  \n",
       "4          NaN                 NaN  "
      ]
     },
     "execution_count": 16,
     "metadata": {},
     "output_type": "execute_result"
    }
   ],
   "source": [
    "crime_data_df.head()"
   ]
  },
  {
   "cell_type": "code",
   "execution_count": 17,
   "metadata": {},
   "outputs": [],
   "source": [
    "# Exported combined data for preservation\n",
    "# crime_data_df.to_excel(\"combined_data.xlsx\",index=False, header=True)"
   ]
  },
  {
   "cell_type": "code",
   "execution_count": null,
   "metadata": {},
   "outputs": [],
   "source": []
  }
 ],
 "metadata": {
  "kernelspec": {
   "display_name": "dev",
   "language": "python",
   "name": "python3"
  },
  "language_info": {
   "codemirror_mode": {
    "name": "ipython",
    "version": 3
   },
   "file_extension": ".py",
   "mimetype": "text/x-python",
   "name": "python",
   "nbconvert_exporter": "python",
   "pygments_lexer": "ipython3",
   "version": "3.10.13"
  }
 },
 "nbformat": 4,
 "nbformat_minor": 2
}
